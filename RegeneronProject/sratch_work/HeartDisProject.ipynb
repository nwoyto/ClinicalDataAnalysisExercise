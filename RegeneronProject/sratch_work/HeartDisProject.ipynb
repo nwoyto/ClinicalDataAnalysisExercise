{
 "cells": [
  {
   "cell_type": "code",
   "execution_count": 1,
   "metadata": {},
   "outputs": [],
   "source": [
    "import numpy as np\n",
    "import pandas as pd"
   ]
  },
  {
   "cell_type": "code",
   "execution_count": 2,
   "metadata": {},
   "outputs": [
    {
     "data": {
      "text/html": [
       "<div>\n",
       "<style scoped>\n",
       "    .dataframe tbody tr th:only-of-type {\n",
       "        vertical-align: middle;\n",
       "    }\n",
       "\n",
       "    .dataframe tbody tr th {\n",
       "        vertical-align: top;\n",
       "    }\n",
       "\n",
       "    .dataframe thead th {\n",
       "        text-align: right;\n",
       "    }\n",
       "</style>\n",
       "<table border=\"1\" class=\"dataframe\">\n",
       "  <thead>\n",
       "    <tr style=\"text-align: right;\">\n",
       "      <th></th>\n",
       "      <th>patient_id</th>\n",
       "      <th>sex</th>\n",
       "      <th>age</th>\n",
       "      <th>BMI</th>\n",
       "      <th>treatment_group</th>\n",
       "      <th>left_ventrical_size_pretreatment</th>\n",
       "      <th>left_ventrical_2_weeks</th>\n",
       "      <th>left_ventrical_size_4_weeks</th>\n",
       "      <th>left_ventrical_size_18_months</th>\n",
       "      <th>heart_rate_pretreatment</th>\n",
       "      <th>...</th>\n",
       "      <th>mortality _treatement_period</th>\n",
       "      <th>mortality_18_months</th>\n",
       "      <th>surrogate_survival_metric_pretreatment</th>\n",
       "      <th>surrogate_survival_metric_2_weeks</th>\n",
       "      <th>surrogate_survival_metric_4_weeks</th>\n",
       "      <th>surrogate_survival_metric_18_months</th>\n",
       "      <th>quality_of_life_pretreatment</th>\n",
       "      <th>quality_of_life_posttreatment</th>\n",
       "      <th>quality_of_life_18_months</th>\n",
       "      <th>Unnamed: 22</th>\n",
       "    </tr>\n",
       "  </thead>\n",
       "  <tbody>\n",
       "    <tr>\n",
       "      <th>0</th>\n",
       "      <td>1.0</td>\n",
       "      <td>m</td>\n",
       "      <td>55.0</td>\n",
       "      <td>37.0</td>\n",
       "      <td>0.0</td>\n",
       "      <td>7.9</td>\n",
       "      <td>7.8</td>\n",
       "      <td>8.0</td>\n",
       "      <td>7.9</td>\n",
       "      <td>82.0</td>\n",
       "      <td>...</td>\n",
       "      <td>1.0</td>\n",
       "      <td>0.0</td>\n",
       "      <td>0.25</td>\n",
       "      <td>0.25</td>\n",
       "      <td>0.24</td>\n",
       "      <td>Dead</td>\n",
       "      <td>72.0</td>\n",
       "      <td>69.0</td>\n",
       "      <td>Dead</td>\n",
       "      <td>NaN</td>\n",
       "    </tr>\n",
       "    <tr>\n",
       "      <th>1</th>\n",
       "      <td>2.0</td>\n",
       "      <td>m</td>\n",
       "      <td>62.0</td>\n",
       "      <td>33.0</td>\n",
       "      <td>0.0</td>\n",
       "      <td>6.7</td>\n",
       "      <td>6.8</td>\n",
       "      <td>6.5</td>\n",
       "      <td>6.6</td>\n",
       "      <td>89.0</td>\n",
       "      <td>...</td>\n",
       "      <td>1.0</td>\n",
       "      <td>0.0</td>\n",
       "      <td>0.27</td>\n",
       "      <td>0.28</td>\n",
       "      <td>0.27</td>\n",
       "      <td>Dead</td>\n",
       "      <td>51.0</td>\n",
       "      <td>55.0</td>\n",
       "      <td>Dead</td>\n",
       "      <td>NaN</td>\n",
       "    </tr>\n",
       "    <tr>\n",
       "      <th>2</th>\n",
       "      <td>3.0</td>\n",
       "      <td>f</td>\n",
       "      <td>45.0</td>\n",
       "      <td>52.0</td>\n",
       "      <td>0.0</td>\n",
       "      <td>5.9</td>\n",
       "      <td>5.9</td>\n",
       "      <td>5.7</td>\n",
       "      <td>5.8</td>\n",
       "      <td>95.0</td>\n",
       "      <td>...</td>\n",
       "      <td>1.0</td>\n",
       "      <td>0.0</td>\n",
       "      <td>0.21</td>\n",
       "      <td>0.22</td>\n",
       "      <td>0.22</td>\n",
       "      <td>Dead</td>\n",
       "      <td>64.0</td>\n",
       "      <td>62.0</td>\n",
       "      <td>Dead</td>\n",
       "      <td>NaN</td>\n",
       "    </tr>\n",
       "    <tr>\n",
       "      <th>3</th>\n",
       "      <td>4.0</td>\n",
       "      <td>f</td>\n",
       "      <td>37.0</td>\n",
       "      <td>61.0</td>\n",
       "      <td>1.0</td>\n",
       "      <td>6.1</td>\n",
       "      <td>5.6</td>\n",
       "      <td>4.7</td>\n",
       "      <td>4.4</td>\n",
       "      <td>105.0</td>\n",
       "      <td>...</td>\n",
       "      <td>1.0</td>\n",
       "      <td>0.0</td>\n",
       "      <td>0.17</td>\n",
       "      <td>0.21</td>\n",
       "      <td>0.24</td>\n",
       "      <td>Dead</td>\n",
       "      <td>67.0</td>\n",
       "      <td>25.0</td>\n",
       "      <td>Dead</td>\n",
       "      <td>NaN</td>\n",
       "    </tr>\n",
       "    <tr>\n",
       "      <th>4</th>\n",
       "      <td>5.0</td>\n",
       "      <td>f</td>\n",
       "      <td>51.0</td>\n",
       "      <td>48.0</td>\n",
       "      <td>1.0</td>\n",
       "      <td>5.7</td>\n",
       "      <td>5.1</td>\n",
       "      <td>4.2</td>\n",
       "      <td>3.9</td>\n",
       "      <td>100.0</td>\n",
       "      <td>...</td>\n",
       "      <td>1.0</td>\n",
       "      <td>1.0</td>\n",
       "      <td>0.22</td>\n",
       "      <td>0.33</td>\n",
       "      <td>0.45</td>\n",
       "      <td>0.49</td>\n",
       "      <td>62.0</td>\n",
       "      <td>29.0</td>\n",
       "      <td>24</td>\n",
       "      <td>NaN</td>\n",
       "    </tr>\n",
       "  </tbody>\n",
       "</table>\n",
       "<p>5 rows × 23 columns</p>\n",
       "</div>"
      ],
      "text/plain": [
       "   patient_id sex   age   BMI  treatment_group  \\\n",
       "0         1.0   m  55.0  37.0              0.0   \n",
       "1         2.0   m  62.0  33.0              0.0   \n",
       "2         3.0   f  45.0  52.0              0.0   \n",
       "3         4.0   f  37.0  61.0              1.0   \n",
       "4         5.0   f  51.0  48.0              1.0   \n",
       "\n",
       "   left_ventrical_size_pretreatment  left_ventrical_2_weeks  \\\n",
       "0                               7.9                     7.8   \n",
       "1                               6.7                     6.8   \n",
       "2                               5.9                     5.9   \n",
       "3                               6.1                     5.6   \n",
       "4                               5.7                     5.1   \n",
       "\n",
       "   left_ventrical_size_4_weeks  left_ventrical_size_18_months  \\\n",
       "0                          8.0                            7.9   \n",
       "1                          6.5                            6.6   \n",
       "2                          5.7                            5.8   \n",
       "3                          4.7                            4.4   \n",
       "4                          4.2                            3.9   \n",
       "\n",
       "   heart_rate_pretreatment  ...  mortality _treatement_period  \\\n",
       "0                     82.0  ...                           1.0   \n",
       "1                     89.0  ...                           1.0   \n",
       "2                     95.0  ...                           1.0   \n",
       "3                    105.0  ...                           1.0   \n",
       "4                    100.0  ...                           1.0   \n",
       "\n",
       "   mortality_18_months surrogate_survival_metric_pretreatment  \\\n",
       "0                  0.0                                   0.25   \n",
       "1                  0.0                                   0.27   \n",
       "2                  0.0                                   0.21   \n",
       "3                  0.0                                   0.17   \n",
       "4                  1.0                                   0.22   \n",
       "\n",
       "   surrogate_survival_metric_2_weeks  surrogate_survival_metric_4_weeks  \\\n",
       "0                               0.25                               0.24   \n",
       "1                               0.28                               0.27   \n",
       "2                               0.22                               0.22   \n",
       "3                               0.21                               0.24   \n",
       "4                               0.33                               0.45   \n",
       "\n",
       "   surrogate_survival_metric_18_months  quality_of_life_pretreatment  \\\n",
       "0                                 Dead                          72.0   \n",
       "1                                 Dead                          51.0   \n",
       "2                                 Dead                          64.0   \n",
       "3                                 Dead                          67.0   \n",
       "4                                 0.49                          62.0   \n",
       "\n",
       "   quality_of_life_posttreatment quality_of_life_18_months  Unnamed: 22  \n",
       "0                           69.0                      Dead          NaN  \n",
       "1                           55.0                      Dead          NaN  \n",
       "2                           62.0                      Dead          NaN  \n",
       "3                           25.0                      Dead          NaN  \n",
       "4                           29.0                        24          NaN  \n",
       "\n",
       "[5 rows x 23 columns]"
      ]
     },
     "execution_count": 2,
     "metadata": {},
     "output_type": "execute_result"
    }
   ],
   "source": [
    "data = pd.read_csv('RegProjectData.csv')\n",
    "data.head()"
   ]
  },
  {
   "cell_type": "code",
   "execution_count": 3,
   "metadata": {},
   "outputs": [
    {
     "data": {
      "text/plain": [
       "(22, 23)"
      ]
     },
     "execution_count": 3,
     "metadata": {},
     "output_type": "execute_result"
    }
   ],
   "source": [
    "data.shape"
   ]
  },
  {
   "cell_type": "code",
   "execution_count": 4,
   "metadata": {},
   "outputs": [
    {
     "data": {
      "text/html": [
       "<div>\n",
       "<style scoped>\n",
       "    .dataframe tbody tr th:only-of-type {\n",
       "        vertical-align: middle;\n",
       "    }\n",
       "\n",
       "    .dataframe tbody tr th {\n",
       "        vertical-align: top;\n",
       "    }\n",
       "\n",
       "    .dataframe thead th {\n",
       "        text-align: right;\n",
       "    }\n",
       "</style>\n",
       "<table border=\"1\" class=\"dataframe\">\n",
       "  <thead>\n",
       "    <tr style=\"text-align: right;\">\n",
       "      <th></th>\n",
       "      <th>patient_id</th>\n",
       "      <th>sex</th>\n",
       "      <th>age</th>\n",
       "      <th>BMI</th>\n",
       "      <th>treatment_group</th>\n",
       "      <th>left_ventrical_size_pretreatment</th>\n",
       "      <th>left_ventrical_2_weeks</th>\n",
       "      <th>left_ventrical_size_4_weeks</th>\n",
       "      <th>left_ventrical_size_18_months</th>\n",
       "      <th>heart_rate_pretreatment</th>\n",
       "      <th>...</th>\n",
       "      <th>mortality _treatement_period</th>\n",
       "      <th>mortality_18_months</th>\n",
       "      <th>surrogate_survival_metric_pretreatment</th>\n",
       "      <th>surrogate_survival_metric_2_weeks</th>\n",
       "      <th>surrogate_survival_metric_4_weeks</th>\n",
       "      <th>surrogate_survival_metric_18_months</th>\n",
       "      <th>quality_of_life_pretreatment</th>\n",
       "      <th>quality_of_life_posttreatment</th>\n",
       "      <th>quality_of_life_18_months</th>\n",
       "      <th>Unnamed: 22</th>\n",
       "    </tr>\n",
       "  </thead>\n",
       "  <tbody>\n",
       "    <tr>\n",
       "      <th>20</th>\n",
       "      <td>NaN</td>\n",
       "      <td>NaN</td>\n",
       "      <td>NaN</td>\n",
       "      <td>NaN</td>\n",
       "      <td>NaN</td>\n",
       "      <td>NaN</td>\n",
       "      <td>NaN</td>\n",
       "      <td>NaN</td>\n",
       "      <td>NaN</td>\n",
       "      <td>NaN</td>\n",
       "      <td>...</td>\n",
       "      <td>NaN</td>\n",
       "      <td>NaN</td>\n",
       "      <td>NaN</td>\n",
       "      <td>NaN</td>\n",
       "      <td>NaN</td>\n",
       "      <td>NaN</td>\n",
       "      <td>NaN</td>\n",
       "      <td>NaN</td>\n",
       "      <td>NaN</td>\n",
       "      <td>NaN</td>\n",
       "    </tr>\n",
       "    <tr>\n",
       "      <th>21</th>\n",
       "      <td>NaN</td>\n",
       "      <td>NaN</td>\n",
       "      <td>NaN</td>\n",
       "      <td>NaN</td>\n",
       "      <td>NaN</td>\n",
       "      <td>NaN</td>\n",
       "      <td>NaN</td>\n",
       "      <td>NaN</td>\n",
       "      <td>NaN</td>\n",
       "      <td>NaN</td>\n",
       "      <td>...</td>\n",
       "      <td>NaN</td>\n",
       "      <td>8.0</td>\n",
       "      <td>NaN</td>\n",
       "      <td>NaN</td>\n",
       "      <td>NaN</td>\n",
       "      <td>NaN</td>\n",
       "      <td>NaN</td>\n",
       "      <td>NaN</td>\n",
       "      <td>NaN</td>\n",
       "      <td>NaN</td>\n",
       "    </tr>\n",
       "  </tbody>\n",
       "</table>\n",
       "<p>2 rows × 23 columns</p>\n",
       "</div>"
      ],
      "text/plain": [
       "    patient_id  sex  age  BMI  treatment_group  \\\n",
       "20         NaN  NaN  NaN  NaN              NaN   \n",
       "21         NaN  NaN  NaN  NaN              NaN   \n",
       "\n",
       "    left_ventrical_size_pretreatment  left_ventrical_2_weeks  \\\n",
       "20                               NaN                     NaN   \n",
       "21                               NaN                     NaN   \n",
       "\n",
       "    left_ventrical_size_4_weeks  left_ventrical_size_18_months  \\\n",
       "20                          NaN                            NaN   \n",
       "21                          NaN                            NaN   \n",
       "\n",
       "    heart_rate_pretreatment  ...  mortality _treatement_period  \\\n",
       "20                      NaN  ...                           NaN   \n",
       "21                      NaN  ...                           NaN   \n",
       "\n",
       "    mortality_18_months surrogate_survival_metric_pretreatment  \\\n",
       "20                  NaN                                    NaN   \n",
       "21                  8.0                                    NaN   \n",
       "\n",
       "    surrogate_survival_metric_2_weeks  surrogate_survival_metric_4_weeks  \\\n",
       "20                                NaN                                NaN   \n",
       "21                                NaN                                NaN   \n",
       "\n",
       "    surrogate_survival_metric_18_months  quality_of_life_pretreatment  \\\n",
       "20                                  NaN                           NaN   \n",
       "21                                  NaN                           NaN   \n",
       "\n",
       "    quality_of_life_posttreatment quality_of_life_18_months  Unnamed: 22  \n",
       "20                            NaN                       NaN          NaN  \n",
       "21                            NaN                       NaN          NaN  \n",
       "\n",
       "[2 rows x 23 columns]"
      ]
     },
     "execution_count": 4,
     "metadata": {},
     "output_type": "execute_result"
    }
   ],
   "source": [
    "data.tail(2)"
   ]
  },
  {
   "cell_type": "code",
   "execution_count": 5,
   "metadata": {},
   "outputs": [],
   "source": [
    "data = data.drop(index=[20,21])"
   ]
  },
  {
   "cell_type": "code",
   "execution_count": 6,
   "metadata": {},
   "outputs": [
    {
     "data": {
      "text/plain": [
       "<bound method NDFrame.head of                                           0     1     2      3      4     5   \\\n",
       "patient_id                               1.0   2.0   3.0    4.0    5.0   6.0   \n",
       "sex                                        m     m     f      f      f     m   \n",
       "age                                     55.0  62.0  45.0   37.0   51.0  65.0   \n",
       "BMI                                     37.0  33.0  52.0   61.0   48.0  55.0   \n",
       "treatment_group                          0.0   0.0   0.0    1.0    1.0   1.0   \n",
       "left_ventrical_size_pretreatment         7.9   6.7   5.9    6.1    5.7   6.5   \n",
       "left_ventrical_2_weeks                   7.8   6.8   5.9    5.6    5.1   6.0   \n",
       "left_ventrical_size_4_weeks              8.0   6.5   5.7    4.7    4.2   5.1   \n",
       "left_ventrical_size_18_months            7.9   6.6   5.8    4.4    3.9   4.5   \n",
       "heart_rate_pretreatment                 82.0  89.0  95.0  105.0  100.0  99.0   \n",
       "heart_rate_2_weeks                      85.0  87.0  94.0   82.0   81.0  75.0   \n",
       "heart_rate_4_weeks                      89.0  61.0  91.0   79.0   72.0  61.0   \n",
       "heart_rate_18_months                    Dead  Dead  Dead   Dead     65    52   \n",
       "mortality _treatement_period             1.0   1.0   1.0    1.0    1.0   1.0   \n",
       "mortality_18_months                      0.0   0.0   0.0    0.0    1.0   1.0   \n",
       "surrogate_survival_metric_pretreatment  0.25  0.27  0.21   0.17   0.22  0.24   \n",
       "surrogate_survival_metric_2_weeks       0.25  0.28  0.22   0.21   0.33  0.35   \n",
       "surrogate_survival_metric_4_weeks       0.24  0.27  0.22   0.24   0.45  0.41   \n",
       "surrogate_survival_metric_18_months     Dead  Dead  Dead   Dead   0.49  0.45   \n",
       "quality_of_life_pretreatment            72.0  51.0  64.0   67.0   62.0  58.0   \n",
       "quality_of_life_posttreatment           69.0  55.0  62.0   25.0   29.0  31.0   \n",
       "quality_of_life_18_months               Dead  Dead  Dead   Dead     24    25   \n",
       "Unnamed: 22                              NaN   NaN   NaN    NaN    NaN   NaN   \n",
       "\n",
       "                                          6     7     8     9     10    11  \\\n",
       "patient_id                               7.0   8.0   9.0  10.0  11.0  12.0   \n",
       "sex                                        m     f     m     f     f     m   \n",
       "age                                     73.0  59.0  56.0  84.0  65.0  54.0   \n",
       "BMI                                     30.0  24.0  35.0  25.0  24.0  55.0   \n",
       "treatment_group                          0.0   1.0   1.0   0.0   0.0   1.0   \n",
       "left_ventrical_size_pretreatment         6.7   6.1   6.6   6.2   5.5   7.0   \n",
       "left_ventrical_2_weeks                   6.6   6.1   5.9   6.3   5.6   6.2   \n",
       "left_ventrical_size_4_weeks              6.6   6.0   4.9   6.1   5.3   5.7   \n",
       "left_ventrical_size_18_months            6.6   6.0   4.7   5.9   5.4   5.9   \n",
       "heart_rate_pretreatment                 79.0  95.0  92.0  87.0  91.0  98.0   \n",
       "heart_rate_2_weeks                      82.0  92.0  83.0  88.0  88.0  82.0   \n",
       "heart_rate_4_weeks                      79.0  91.0  71.0  89.0  70.0  69.0   \n",
       "heart_rate_18_months                    Dead  Dead    65  Dead  Dead    64   \n",
       "mortality _treatement_period             1.0   1.0   1.0   1.0   1.0   1.0   \n",
       "mortality_18_months                      0.0   0.0   1.0   0.0   0.0   1.0   \n",
       "surrogate_survival_metric_pretreatment  0.29  0.24   0.3  0.29  0.28  0.17   \n",
       "surrogate_survival_metric_2_weeks       0.31  0.28  0.45  0.29  0.28  0.24   \n",
       "surrogate_survival_metric_4_weeks       0.28  0.31  0.57   0.3   0.3  0.37   \n",
       "surrogate_survival_metric_18_months     Dead  Dead  0.61  Dead  Dead   NaN   \n",
       "quality_of_life_pretreatment            71.0  72.0  68.0  71.0  97.0  84.0   \n",
       "quality_of_life_posttreatment           65.0  75.0  50.0  74.0  92.0  81.0   \n",
       "quality_of_life_18_months               Dead  Dead    35  Dead  Dead  Dead   \n",
       "Unnamed: 22                              NaN   NaN   NaN   NaN   NaN   NaN   \n",
       "\n",
       "                                          12    13    14    15    16    17  \\\n",
       "patient_id                              13.0  14.0  15.0  16.0  17.0  18.0   \n",
       "sex                                        f     m     m     m     f     f   \n",
       "age                                     52.0  47.0  69.0  55.0  48.0  71.0   \n",
       "BMI                                     31.0  29.0  20.0  32.0  19.0  45.0   \n",
       "treatment_group                          0.0   0.0   1.0   0.0   1.0   1.0   \n",
       "left_ventrical_size_pretreatment         6.1   7.2   7.6   7.8   6.2   6.7   \n",
       "left_ventrical_2_weeks                   6.0   7.0   6.9   7.6   5.9   6.5   \n",
       "left_ventrical_size_4_weeks              6.1   7.2   5.8   7.5   4.9   6.7   \n",
       "left_ventrical_size_18_months            5.9   6.9   5.5   7.5   4.5   6.7   \n",
       "heart_rate_pretreatment                 94.0  90.0  72.0  87.0  85.0  92.0   \n",
       "heart_rate_2_weeks                      95.0  91.0  65.0  81.0  78.0  89.0   \n",
       "heart_rate_4_weeks                      91.0  88.0  59.0  78.0  62.0  87.0   \n",
       "heart_rate_18_months                    Dead  Dead    35  Dead    55  Dead   \n",
       "mortality _treatement_period             1.0   1.0   1.0   1.0   1.0   1.0   \n",
       "mortality_18_months                      0.0   0.0   1.0   0.0   1.0   0.0   \n",
       "surrogate_survival_metric_pretreatment  0.27  0.31  0.33  0.21  0.32  0.24   \n",
       "surrogate_survival_metric_2_weeks       0.29   0.3  0.41  0.24  0.37  0.22   \n",
       "surrogate_survival_metric_4_weeks       0.26  0.27  0.51  0.23  0.45  0.27   \n",
       "surrogate_survival_metric_18_months     Dead  Dead  0.55  Dead  0.49  0.31   \n",
       "quality_of_life_pretreatment            65.0  58.0  91.0  56.0  68.0  74.0   \n",
       "quality_of_life_posttreatment           54.0  53.0  51.0  58.0  19.0  88.0   \n",
       "quality_of_life_18_months               Dead  Dead    35  Dead     5  Dead   \n",
       "Unnamed: 22                              NaN   NaN   NaN   NaN   NaN   NaN   \n",
       "\n",
       "                                          18     19  \n",
       "patient_id                              19.0   20.0  \n",
       "sex                                        m      f  \n",
       "age                                     54.0   38.0  \n",
       "BMI                                     21.0   58.0  \n",
       "treatment_group                          1.0    0.0  \n",
       "left_ventrical_size_pretreatment         7.2    6.3  \n",
       "left_ventrical_2_weeks                   6.7    6.1  \n",
       "left_ventrical_size_4_weeks              5.4    6.0  \n",
       "left_ventrical_size_18_months            4.9    6.2  \n",
       "heart_rate_pretreatment                 76.0  102.0  \n",
       "heart_rate_2_weeks                      67.0   99.0  \n",
       "heart_rate_4_weeks                      59.0   98.0  \n",
       "heart_rate_18_months                      55     25  \n",
       "mortality _treatement_period             1.0    1.0  \n",
       "mortality_18_months                      1.0    1.0  \n",
       "surrogate_survival_metric_pretreatment  0.27   0.29  \n",
       "surrogate_survival_metric_2_weeks       0.35    0.3  \n",
       "surrogate_survival_metric_4_weeks        0.4   0.33  \n",
       "surrogate_survival_metric_18_months     0.43   0.33  \n",
       "quality_of_life_pretreatment            55.0   47.0  \n",
       "quality_of_life_posttreatment           23.0   44.0  \n",
       "quality_of_life_18_months                 19     25  \n",
       "Unnamed: 22                              NaN    NaN  >"
      ]
     },
     "execution_count": 6,
     "metadata": {},
     "output_type": "execute_result"
    }
   ],
   "source": [
    "data_T = data.T\n",
    "data_T.head"
   ]
  },
  {
   "cell_type": "code",
   "execution_count": 7,
   "metadata": {},
   "outputs": [
    {
     "data": {
      "text/plain": [
       "Index(['patient_id', 'sex', 'age', 'BMI', 'treatment_group',\n",
       "       'left_ventrical_size_pretreatment', 'left_ventrical_2_weeks',\n",
       "       'left_ventrical_size_4_weeks', 'left_ventrical_size_18_months',\n",
       "       'heart_rate_pretreatment', 'heart_rate_2_weeks', 'heart_rate_4_weeks',\n",
       "       'heart_rate_18_months', 'mortality _treatement_period',\n",
       "       'mortality_18_months', 'surrogate_survival_metric_pretreatment',\n",
       "       'surrogate_survival_metric_2_weeks',\n",
       "       'surrogate_survival_metric_4_weeks',\n",
       "       'surrogate_survival_metric_18_months', 'quality_of_life_pretreatment',\n",
       "       'quality_of_life_posttreatment', 'quality_of_life_18_months',\n",
       "       'Unnamed: 22'],\n",
       "      dtype='object')"
      ]
     },
     "execution_count": 7,
     "metadata": {},
     "output_type": "execute_result"
    }
   ],
   "source": [
    "data.columns"
   ]
  },
  {
   "cell_type": "code",
   "execution_count": 8,
   "metadata": {},
   "outputs": [
    {
     "name": "stdout",
     "output_type": "stream",
     "text": [
      "0    NaN\n",
      "1    NaN\n",
      "2    NaN\n",
      "3    NaN\n",
      "4    NaN\n",
      "5    NaN\n",
      "6    NaN\n",
      "7    NaN\n",
      "8    NaN\n",
      "9    NaN\n",
      "10   NaN\n",
      "11   NaN\n",
      "12   NaN\n",
      "13   NaN\n",
      "14   NaN\n",
      "15   NaN\n",
      "16   NaN\n",
      "17   NaN\n",
      "18   NaN\n",
      "19   NaN\n",
      "Name: Unnamed: 22, dtype: float64\n"
     ]
    }
   ],
   "source": [
    "unk = data['Unnamed: 22']\n",
    "print(unk)\n",
    "data = data.drop('Unnamed: 22', axis=1)"
   ]
  },
  {
   "cell_type": "code",
   "execution_count": 9,
   "metadata": {},
   "outputs": [
    {
     "data": {
      "text/plain": [
       "(20, 22)"
      ]
     },
     "execution_count": 9,
     "metadata": {},
     "output_type": "execute_result"
    }
   ],
   "source": [
    "data.shape"
   ]
  },
  {
   "cell_type": "code",
   "execution_count": 10,
   "metadata": {},
   "outputs": [
    {
     "data": {
      "text/html": [
       "<div>\n",
       "<style scoped>\n",
       "    .dataframe tbody tr th:only-of-type {\n",
       "        vertical-align: middle;\n",
       "    }\n",
       "\n",
       "    .dataframe tbody tr th {\n",
       "        vertical-align: top;\n",
       "    }\n",
       "\n",
       "    .dataframe thead th {\n",
       "        text-align: right;\n",
       "    }\n",
       "</style>\n",
       "<table border=\"1\" class=\"dataframe\">\n",
       "  <thead>\n",
       "    <tr style=\"text-align: right;\">\n",
       "      <th></th>\n",
       "      <th>patient_id</th>\n",
       "      <th>age</th>\n",
       "      <th>BMI</th>\n",
       "      <th>treatment_group</th>\n",
       "      <th>left_ventrical_size_pretreatment</th>\n",
       "      <th>left_ventrical_2_weeks</th>\n",
       "      <th>left_ventrical_size_4_weeks</th>\n",
       "      <th>left_ventrical_size_18_months</th>\n",
       "      <th>heart_rate_pretreatment</th>\n",
       "      <th>heart_rate_2_weeks</th>\n",
       "      <th>heart_rate_4_weeks</th>\n",
       "      <th>mortality _treatement_period</th>\n",
       "      <th>mortality_18_months</th>\n",
       "      <th>surrogate_survival_metric_pretreatment</th>\n",
       "      <th>surrogate_survival_metric_2_weeks</th>\n",
       "      <th>surrogate_survival_metric_4_weeks</th>\n",
       "      <th>quality_of_life_pretreatment</th>\n",
       "      <th>quality_of_life_posttreatment</th>\n",
       "    </tr>\n",
       "  </thead>\n",
       "  <tbody>\n",
       "    <tr>\n",
       "      <th>count</th>\n",
       "      <td>20.00000</td>\n",
       "      <td>20.00000</td>\n",
       "      <td>20.000000</td>\n",
       "      <td>20.000000</td>\n",
       "      <td>20.000000</td>\n",
       "      <td>20.000000</td>\n",
       "      <td>20.000000</td>\n",
       "      <td>20.000000</td>\n",
       "      <td>20.000000</td>\n",
       "      <td>20.000000</td>\n",
       "      <td>20.000000</td>\n",
       "      <td>20.0</td>\n",
       "      <td>20.000000</td>\n",
       "      <td>20.000000</td>\n",
       "      <td>20.000000</td>\n",
       "      <td>20.000000</td>\n",
       "      <td>20.000000</td>\n",
       "      <td>20.000000</td>\n",
       "    </tr>\n",
       "    <tr>\n",
       "      <th>mean</th>\n",
       "      <td>10.50000</td>\n",
       "      <td>57.00000</td>\n",
       "      <td>36.700000</td>\n",
       "      <td>0.500000</td>\n",
       "      <td>6.600000</td>\n",
       "      <td>6.330000</td>\n",
       "      <td>5.920000</td>\n",
       "      <td>5.785000</td>\n",
       "      <td>90.500000</td>\n",
       "      <td>84.200000</td>\n",
       "      <td>77.200000</td>\n",
       "      <td>1.0</td>\n",
       "      <td>0.400000</td>\n",
       "      <td>0.258500</td>\n",
       "      <td>0.298500</td>\n",
       "      <td>0.334000</td>\n",
       "      <td>67.550000</td>\n",
       "      <td>54.900000</td>\n",
       "    </tr>\n",
       "    <tr>\n",
       "      <th>std</th>\n",
       "      <td>5.91608</td>\n",
       "      <td>11.82326</td>\n",
       "      <td>13.799695</td>\n",
       "      <td>0.512989</td>\n",
       "      <td>0.677457</td>\n",
       "      <td>0.668147</td>\n",
       "      <td>0.970946</td>\n",
       "      <td>1.077167</td>\n",
       "      <td>8.684529</td>\n",
       "      <td>8.654783</td>\n",
       "      <td>12.784036</td>\n",
       "      <td>0.0</td>\n",
       "      <td>0.502625</td>\n",
       "      <td>0.045915</td>\n",
       "      <td>0.063848</td>\n",
       "      <td>0.100021</td>\n",
       "      <td>12.592709</td>\n",
       "      <td>21.628198</td>\n",
       "    </tr>\n",
       "    <tr>\n",
       "      <th>min</th>\n",
       "      <td>1.00000</td>\n",
       "      <td>37.00000</td>\n",
       "      <td>19.000000</td>\n",
       "      <td>0.000000</td>\n",
       "      <td>5.500000</td>\n",
       "      <td>5.100000</td>\n",
       "      <td>4.200000</td>\n",
       "      <td>3.900000</td>\n",
       "      <td>72.000000</td>\n",
       "      <td>65.000000</td>\n",
       "      <td>59.000000</td>\n",
       "      <td>1.0</td>\n",
       "      <td>0.000000</td>\n",
       "      <td>0.170000</td>\n",
       "      <td>0.210000</td>\n",
       "      <td>0.220000</td>\n",
       "      <td>47.000000</td>\n",
       "      <td>19.000000</td>\n",
       "    </tr>\n",
       "    <tr>\n",
       "      <th>25%</th>\n",
       "      <td>5.75000</td>\n",
       "      <td>50.25000</td>\n",
       "      <td>24.750000</td>\n",
       "      <td>0.000000</td>\n",
       "      <td>6.100000</td>\n",
       "      <td>5.900000</td>\n",
       "      <td>5.250000</td>\n",
       "      <td>4.850000</td>\n",
       "      <td>86.500000</td>\n",
       "      <td>81.000000</td>\n",
       "      <td>67.250000</td>\n",
       "      <td>1.0</td>\n",
       "      <td>0.000000</td>\n",
       "      <td>0.235000</td>\n",
       "      <td>0.247500</td>\n",
       "      <td>0.267500</td>\n",
       "      <td>58.000000</td>\n",
       "      <td>40.750000</td>\n",
       "    </tr>\n",
       "    <tr>\n",
       "      <th>50%</th>\n",
       "      <td>10.50000</td>\n",
       "      <td>55.00000</td>\n",
       "      <td>32.500000</td>\n",
       "      <td>0.500000</td>\n",
       "      <td>6.550000</td>\n",
       "      <td>6.150000</td>\n",
       "      <td>5.900000</td>\n",
       "      <td>5.900000</td>\n",
       "      <td>91.500000</td>\n",
       "      <td>84.000000</td>\n",
       "      <td>78.500000</td>\n",
       "      <td>1.0</td>\n",
       "      <td>0.000000</td>\n",
       "      <td>0.270000</td>\n",
       "      <td>0.290000</td>\n",
       "      <td>0.300000</td>\n",
       "      <td>67.500000</td>\n",
       "      <td>54.500000</td>\n",
       "    </tr>\n",
       "    <tr>\n",
       "      <th>75%</th>\n",
       "      <td>15.25000</td>\n",
       "      <td>65.00000</td>\n",
       "      <td>49.000000</td>\n",
       "      <td>1.000000</td>\n",
       "      <td>7.050000</td>\n",
       "      <td>6.725000</td>\n",
       "      <td>6.525000</td>\n",
       "      <td>6.600000</td>\n",
       "      <td>95.750000</td>\n",
       "      <td>89.500000</td>\n",
       "      <td>89.000000</td>\n",
       "      <td>1.0</td>\n",
       "      <td>1.000000</td>\n",
       "      <td>0.290000</td>\n",
       "      <td>0.335000</td>\n",
       "      <td>0.402500</td>\n",
       "      <td>72.000000</td>\n",
       "      <td>70.250000</td>\n",
       "    </tr>\n",
       "    <tr>\n",
       "      <th>max</th>\n",
       "      <td>20.00000</td>\n",
       "      <td>84.00000</td>\n",
       "      <td>61.000000</td>\n",
       "      <td>1.000000</td>\n",
       "      <td>7.900000</td>\n",
       "      <td>7.800000</td>\n",
       "      <td>8.000000</td>\n",
       "      <td>7.900000</td>\n",
       "      <td>105.000000</td>\n",
       "      <td>99.000000</td>\n",
       "      <td>98.000000</td>\n",
       "      <td>1.0</td>\n",
       "      <td>1.000000</td>\n",
       "      <td>0.330000</td>\n",
       "      <td>0.450000</td>\n",
       "      <td>0.570000</td>\n",
       "      <td>97.000000</td>\n",
       "      <td>92.000000</td>\n",
       "    </tr>\n",
       "  </tbody>\n",
       "</table>\n",
       "</div>"
      ],
      "text/plain": [
       "       patient_id       age        BMI  treatment_group  \\\n",
       "count    20.00000  20.00000  20.000000        20.000000   \n",
       "mean     10.50000  57.00000  36.700000         0.500000   \n",
       "std       5.91608  11.82326  13.799695         0.512989   \n",
       "min       1.00000  37.00000  19.000000         0.000000   \n",
       "25%       5.75000  50.25000  24.750000         0.000000   \n",
       "50%      10.50000  55.00000  32.500000         0.500000   \n",
       "75%      15.25000  65.00000  49.000000         1.000000   \n",
       "max      20.00000  84.00000  61.000000         1.000000   \n",
       "\n",
       "       left_ventrical_size_pretreatment  left_ventrical_2_weeks  \\\n",
       "count                         20.000000               20.000000   \n",
       "mean                           6.600000                6.330000   \n",
       "std                            0.677457                0.668147   \n",
       "min                            5.500000                5.100000   \n",
       "25%                            6.100000                5.900000   \n",
       "50%                            6.550000                6.150000   \n",
       "75%                            7.050000                6.725000   \n",
       "max                            7.900000                7.800000   \n",
       "\n",
       "       left_ventrical_size_4_weeks  left_ventrical_size_18_months  \\\n",
       "count                    20.000000                      20.000000   \n",
       "mean                      5.920000                       5.785000   \n",
       "std                       0.970946                       1.077167   \n",
       "min                       4.200000                       3.900000   \n",
       "25%                       5.250000                       4.850000   \n",
       "50%                       5.900000                       5.900000   \n",
       "75%                       6.525000                       6.600000   \n",
       "max                       8.000000                       7.900000   \n",
       "\n",
       "       heart_rate_pretreatment  heart_rate_2_weeks  heart_rate_4_weeks  \\\n",
       "count                20.000000           20.000000           20.000000   \n",
       "mean                 90.500000           84.200000           77.200000   \n",
       "std                   8.684529            8.654783           12.784036   \n",
       "min                  72.000000           65.000000           59.000000   \n",
       "25%                  86.500000           81.000000           67.250000   \n",
       "50%                  91.500000           84.000000           78.500000   \n",
       "75%                  95.750000           89.500000           89.000000   \n",
       "max                 105.000000           99.000000           98.000000   \n",
       "\n",
       "       mortality _treatement_period  mortality_18_months  \\\n",
       "count                          20.0            20.000000   \n",
       "mean                            1.0             0.400000   \n",
       "std                             0.0             0.502625   \n",
       "min                             1.0             0.000000   \n",
       "25%                             1.0             0.000000   \n",
       "50%                             1.0             0.000000   \n",
       "75%                             1.0             1.000000   \n",
       "max                             1.0             1.000000   \n",
       "\n",
       "       surrogate_survival_metric_pretreatment  \\\n",
       "count                               20.000000   \n",
       "mean                                 0.258500   \n",
       "std                                  0.045915   \n",
       "min                                  0.170000   \n",
       "25%                                  0.235000   \n",
       "50%                                  0.270000   \n",
       "75%                                  0.290000   \n",
       "max                                  0.330000   \n",
       "\n",
       "       surrogate_survival_metric_2_weeks  surrogate_survival_metric_4_weeks  \\\n",
       "count                          20.000000                          20.000000   \n",
       "mean                            0.298500                           0.334000   \n",
       "std                             0.063848                           0.100021   \n",
       "min                             0.210000                           0.220000   \n",
       "25%                             0.247500                           0.267500   \n",
       "50%                             0.290000                           0.300000   \n",
       "75%                             0.335000                           0.402500   \n",
       "max                             0.450000                           0.570000   \n",
       "\n",
       "       quality_of_life_pretreatment  quality_of_life_posttreatment  \n",
       "count                     20.000000                      20.000000  \n",
       "mean                      67.550000                      54.900000  \n",
       "std                       12.592709                      21.628198  \n",
       "min                       47.000000                      19.000000  \n",
       "25%                       58.000000                      40.750000  \n",
       "50%                       67.500000                      54.500000  \n",
       "75%                       72.000000                      70.250000  \n",
       "max                       97.000000                      92.000000  "
      ]
     },
     "execution_count": 10,
     "metadata": {},
     "output_type": "execute_result"
    }
   ],
   "source": [
    "data.describe()"
   ]
  },
  {
   "cell_type": "code",
   "execution_count": 11,
   "metadata": {},
   "outputs": [],
   "source": [
    "# import rpy2.robjects.packages as rpackages\n",
    "# import rpy2.robjects as robjects\n",
    "# import pandas as pd\n",
    "# import numpy as np\n",
    "\n",
    "# # Convert the Pandas dataframe to an R dataframe\n",
    "# from rpy2.robjects import pandas2ri\n",
    "# pandas2ri.activate()\n",
    "# rdf = pandas2ri.py2ri(df)\n",
    "\n",
    "# # Load the ggplot2 package\n",
    "# utils = rpackages.importr('utils')\n",
    "# utils.install_packages('ggplot2')\n",
    "# ggplot2 = rpackages.importr('ggplot2')\n",
    "\n",
    "# # Set the plot theme\n",
    "# robjects.r('theme_set(theme_bw())')\n",
    "\n",
    "# # Create a line plot with color grouping\n",
    "# p = ggplot2.ggplot(rdf) + \\\n",
    "#     ggplot2.aes_string(x=\"time\", y=\"left_ventrical_size\", color=\"factor(treatment_group)\") + \\\n",
    "#     ggplot2.geom_line() + \\\n",
    "#     ggplot2.scale_color_manual(values=[\"#F8766D\", \"#00BA38\"]) + \\\n",
    "#     ggplot2.labs(title=\"Change in Left Ventricular Size Over Time by Treatment Group\",\n",
    "#                  x=\"Time\", y=\"Left Ventricular Size\",\n",
    "#                  color=\"Treatment Group\") + \\\n",
    "#     ggplot2.theme(legend_title=ggplot2.element_text(text=\"Treatment Group\",\n",
    "#                                                    face=\"bold\"))\n",
    "\n",
    "# # # Print the plot\n",
    "# print(p)\n"
   ]
  },
  {
   "cell_type": "code",
   "execution_count": 15,
   "metadata": {},
   "outputs": [
    {
     "data": {
      "application/vnd.plotly.v1+json": {
       "config": {
        "plotlyServerURL": "https://plot.ly"
       },
       "data": [
        {
         "hovertemplate": "Treatment Group=0.0<br>Time=%{x}<br>Left Ventricular Size=%{y}<extra></extra>",
         "legendgroup": "0.0",
         "line": {
          "color": "#636efa",
          "dash": "solid"
         },
         "marker": {
          "symbol": "circle"
         },
         "mode": "lines",
         "name": "0.0",
         "orientation": "v",
         "showlegend": true,
         "type": "scatter",
         "x": [
          "Pretreatment",
          "Pretreatment",
          "Pretreatment",
          "Pretreatment",
          "Pretreatment",
          "Pretreatment",
          "Pretreatment",
          "Pretreatment",
          "Pretreatment",
          "Pretreatment",
          "2 Weeks",
          "2 Weeks",
          "2 Weeks",
          "2 Weeks",
          "2 Weeks",
          "2 Weeks",
          "2 Weeks",
          "2 Weeks",
          "2 Weeks",
          "2 Weeks",
          "4 Weeks",
          "4 Weeks",
          "4 Weeks",
          "4 Weeks",
          "4 Weeks",
          "4 Weeks",
          "4 Weeks",
          "4 Weeks",
          "4 Weeks",
          "4 Weeks",
          "18 Months",
          "18 Months",
          "18 Months",
          "18 Months",
          "18 Months",
          "18 Months",
          "18 Months",
          "18 Months",
          "18 Months",
          "18 Months"
         ],
         "xaxis": "x",
         "y": [
          7.9,
          6.7,
          5.9,
          6.7,
          6.2,
          5.5,
          6.1,
          7.2,
          7.8,
          6.3,
          7.8,
          6.8,
          5.9,
          6.6,
          6.3,
          5.6,
          6,
          7,
          7.6,
          6.1,
          8,
          6.5,
          5.7,
          6.6,
          6.1,
          5.3,
          6.1,
          7.2,
          7.5,
          6,
          7.9,
          6.6,
          5.8,
          6.6,
          5.9,
          5.4,
          5.9,
          6.9,
          7.5,
          6.2
         ],
         "yaxis": "y"
        },
        {
         "hovertemplate": "Treatment Group=1.0<br>Time=%{x}<br>Left Ventricular Size=%{y}<extra></extra>",
         "legendgroup": "1.0",
         "line": {
          "color": "#EF553B",
          "dash": "solid"
         },
         "marker": {
          "symbol": "circle"
         },
         "mode": "lines",
         "name": "1.0",
         "orientation": "v",
         "showlegend": true,
         "type": "scatter",
         "x": [
          "Pretreatment",
          "Pretreatment",
          "Pretreatment",
          "Pretreatment",
          "Pretreatment",
          "Pretreatment",
          "Pretreatment",
          "Pretreatment",
          "Pretreatment",
          "Pretreatment",
          "2 Weeks",
          "2 Weeks",
          "2 Weeks",
          "2 Weeks",
          "2 Weeks",
          "2 Weeks",
          "2 Weeks",
          "2 Weeks",
          "2 Weeks",
          "2 Weeks",
          "4 Weeks",
          "4 Weeks",
          "4 Weeks",
          "4 Weeks",
          "4 Weeks",
          "4 Weeks",
          "4 Weeks",
          "4 Weeks",
          "4 Weeks",
          "4 Weeks",
          "18 Months",
          "18 Months",
          "18 Months",
          "18 Months",
          "18 Months",
          "18 Months",
          "18 Months",
          "18 Months",
          "18 Months",
          "18 Months"
         ],
         "xaxis": "x",
         "y": [
          6.1,
          5.7,
          6.5,
          6.1,
          6.6,
          7,
          7.6,
          6.2,
          6.7,
          7.2,
          5.6,
          5.1,
          6,
          6.1,
          5.9,
          6.2,
          6.9,
          5.9,
          6.5,
          6.7,
          4.7,
          4.2,
          5.1,
          6,
          4.9,
          5.7,
          5.8,
          4.9,
          6.7,
          5.4,
          4.4,
          3.9,
          4.5,
          6,
          4.7,
          5.9,
          5.5,
          4.5,
          6.7,
          4.9
         ],
         "yaxis": "y"
        }
       ],
       "layout": {
        "legend": {
         "title": {
          "text": "Treatment Group"
         },
         "tracegroupgap": 0
        },
        "template": {
         "data": {
          "bar": [
           {
            "error_x": {
             "color": "#2a3f5f"
            },
            "error_y": {
             "color": "#2a3f5f"
            },
            "marker": {
             "line": {
              "color": "#E5ECF6",
              "width": 0.5
             },
             "pattern": {
              "fillmode": "overlay",
              "size": 10,
              "solidity": 0.2
             }
            },
            "type": "bar"
           }
          ],
          "barpolar": [
           {
            "marker": {
             "line": {
              "color": "#E5ECF6",
              "width": 0.5
             },
             "pattern": {
              "fillmode": "overlay",
              "size": 10,
              "solidity": 0.2
             }
            },
            "type": "barpolar"
           }
          ],
          "carpet": [
           {
            "aaxis": {
             "endlinecolor": "#2a3f5f",
             "gridcolor": "white",
             "linecolor": "white",
             "minorgridcolor": "white",
             "startlinecolor": "#2a3f5f"
            },
            "baxis": {
             "endlinecolor": "#2a3f5f",
             "gridcolor": "white",
             "linecolor": "white",
             "minorgridcolor": "white",
             "startlinecolor": "#2a3f5f"
            },
            "type": "carpet"
           }
          ],
          "choropleth": [
           {
            "colorbar": {
             "outlinewidth": 0,
             "ticks": ""
            },
            "type": "choropleth"
           }
          ],
          "contour": [
           {
            "colorbar": {
             "outlinewidth": 0,
             "ticks": ""
            },
            "colorscale": [
             [
              0,
              "#0d0887"
             ],
             [
              0.1111111111111111,
              "#46039f"
             ],
             [
              0.2222222222222222,
              "#7201a8"
             ],
             [
              0.3333333333333333,
              "#9c179e"
             ],
             [
              0.4444444444444444,
              "#bd3786"
             ],
             [
              0.5555555555555556,
              "#d8576b"
             ],
             [
              0.6666666666666666,
              "#ed7953"
             ],
             [
              0.7777777777777778,
              "#fb9f3a"
             ],
             [
              0.8888888888888888,
              "#fdca26"
             ],
             [
              1,
              "#f0f921"
             ]
            ],
            "type": "contour"
           }
          ],
          "contourcarpet": [
           {
            "colorbar": {
             "outlinewidth": 0,
             "ticks": ""
            },
            "type": "contourcarpet"
           }
          ],
          "heatmap": [
           {
            "colorbar": {
             "outlinewidth": 0,
             "ticks": ""
            },
            "colorscale": [
             [
              0,
              "#0d0887"
             ],
             [
              0.1111111111111111,
              "#46039f"
             ],
             [
              0.2222222222222222,
              "#7201a8"
             ],
             [
              0.3333333333333333,
              "#9c179e"
             ],
             [
              0.4444444444444444,
              "#bd3786"
             ],
             [
              0.5555555555555556,
              "#d8576b"
             ],
             [
              0.6666666666666666,
              "#ed7953"
             ],
             [
              0.7777777777777778,
              "#fb9f3a"
             ],
             [
              0.8888888888888888,
              "#fdca26"
             ],
             [
              1,
              "#f0f921"
             ]
            ],
            "type": "heatmap"
           }
          ],
          "heatmapgl": [
           {
            "colorbar": {
             "outlinewidth": 0,
             "ticks": ""
            },
            "colorscale": [
             [
              0,
              "#0d0887"
             ],
             [
              0.1111111111111111,
              "#46039f"
             ],
             [
              0.2222222222222222,
              "#7201a8"
             ],
             [
              0.3333333333333333,
              "#9c179e"
             ],
             [
              0.4444444444444444,
              "#bd3786"
             ],
             [
              0.5555555555555556,
              "#d8576b"
             ],
             [
              0.6666666666666666,
              "#ed7953"
             ],
             [
              0.7777777777777778,
              "#fb9f3a"
             ],
             [
              0.8888888888888888,
              "#fdca26"
             ],
             [
              1,
              "#f0f921"
             ]
            ],
            "type": "heatmapgl"
           }
          ],
          "histogram": [
           {
            "marker": {
             "pattern": {
              "fillmode": "overlay",
              "size": 10,
              "solidity": 0.2
             }
            },
            "type": "histogram"
           }
          ],
          "histogram2d": [
           {
            "colorbar": {
             "outlinewidth": 0,
             "ticks": ""
            },
            "colorscale": [
             [
              0,
              "#0d0887"
             ],
             [
              0.1111111111111111,
              "#46039f"
             ],
             [
              0.2222222222222222,
              "#7201a8"
             ],
             [
              0.3333333333333333,
              "#9c179e"
             ],
             [
              0.4444444444444444,
              "#bd3786"
             ],
             [
              0.5555555555555556,
              "#d8576b"
             ],
             [
              0.6666666666666666,
              "#ed7953"
             ],
             [
              0.7777777777777778,
              "#fb9f3a"
             ],
             [
              0.8888888888888888,
              "#fdca26"
             ],
             [
              1,
              "#f0f921"
             ]
            ],
            "type": "histogram2d"
           }
          ],
          "histogram2dcontour": [
           {
            "colorbar": {
             "outlinewidth": 0,
             "ticks": ""
            },
            "colorscale": [
             [
              0,
              "#0d0887"
             ],
             [
              0.1111111111111111,
              "#46039f"
             ],
             [
              0.2222222222222222,
              "#7201a8"
             ],
             [
              0.3333333333333333,
              "#9c179e"
             ],
             [
              0.4444444444444444,
              "#bd3786"
             ],
             [
              0.5555555555555556,
              "#d8576b"
             ],
             [
              0.6666666666666666,
              "#ed7953"
             ],
             [
              0.7777777777777778,
              "#fb9f3a"
             ],
             [
              0.8888888888888888,
              "#fdca26"
             ],
             [
              1,
              "#f0f921"
             ]
            ],
            "type": "histogram2dcontour"
           }
          ],
          "mesh3d": [
           {
            "colorbar": {
             "outlinewidth": 0,
             "ticks": ""
            },
            "type": "mesh3d"
           }
          ],
          "parcoords": [
           {
            "line": {
             "colorbar": {
              "outlinewidth": 0,
              "ticks": ""
             }
            },
            "type": "parcoords"
           }
          ],
          "pie": [
           {
            "automargin": true,
            "type": "pie"
           }
          ],
          "scatter": [
           {
            "fillpattern": {
             "fillmode": "overlay",
             "size": 10,
             "solidity": 0.2
            },
            "type": "scatter"
           }
          ],
          "scatter3d": [
           {
            "line": {
             "colorbar": {
              "outlinewidth": 0,
              "ticks": ""
             }
            },
            "marker": {
             "colorbar": {
              "outlinewidth": 0,
              "ticks": ""
             }
            },
            "type": "scatter3d"
           }
          ],
          "scattercarpet": [
           {
            "marker": {
             "colorbar": {
              "outlinewidth": 0,
              "ticks": ""
             }
            },
            "type": "scattercarpet"
           }
          ],
          "scattergeo": [
           {
            "marker": {
             "colorbar": {
              "outlinewidth": 0,
              "ticks": ""
             }
            },
            "type": "scattergeo"
           }
          ],
          "scattergl": [
           {
            "marker": {
             "colorbar": {
              "outlinewidth": 0,
              "ticks": ""
             }
            },
            "type": "scattergl"
           }
          ],
          "scattermapbox": [
           {
            "marker": {
             "colorbar": {
              "outlinewidth": 0,
              "ticks": ""
             }
            },
            "type": "scattermapbox"
           }
          ],
          "scatterpolar": [
           {
            "marker": {
             "colorbar": {
              "outlinewidth": 0,
              "ticks": ""
             }
            },
            "type": "scatterpolar"
           }
          ],
          "scatterpolargl": [
           {
            "marker": {
             "colorbar": {
              "outlinewidth": 0,
              "ticks": ""
             }
            },
            "type": "scatterpolargl"
           }
          ],
          "scatterternary": [
           {
            "marker": {
             "colorbar": {
              "outlinewidth": 0,
              "ticks": ""
             }
            },
            "type": "scatterternary"
           }
          ],
          "surface": [
           {
            "colorbar": {
             "outlinewidth": 0,
             "ticks": ""
            },
            "colorscale": [
             [
              0,
              "#0d0887"
             ],
             [
              0.1111111111111111,
              "#46039f"
             ],
             [
              0.2222222222222222,
              "#7201a8"
             ],
             [
              0.3333333333333333,
              "#9c179e"
             ],
             [
              0.4444444444444444,
              "#bd3786"
             ],
             [
              0.5555555555555556,
              "#d8576b"
             ],
             [
              0.6666666666666666,
              "#ed7953"
             ],
             [
              0.7777777777777778,
              "#fb9f3a"
             ],
             [
              0.8888888888888888,
              "#fdca26"
             ],
             [
              1,
              "#f0f921"
             ]
            ],
            "type": "surface"
           }
          ],
          "table": [
           {
            "cells": {
             "fill": {
              "color": "#EBF0F8"
             },
             "line": {
              "color": "white"
             }
            },
            "header": {
             "fill": {
              "color": "#C8D4E3"
             },
             "line": {
              "color": "white"
             }
            },
            "type": "table"
           }
          ]
         },
         "layout": {
          "annotationdefaults": {
           "arrowcolor": "#2a3f5f",
           "arrowhead": 0,
           "arrowwidth": 1
          },
          "autotypenumbers": "strict",
          "coloraxis": {
           "colorbar": {
            "outlinewidth": 0,
            "ticks": ""
           }
          },
          "colorscale": {
           "diverging": [
            [
             0,
             "#8e0152"
            ],
            [
             0.1,
             "#c51b7d"
            ],
            [
             0.2,
             "#de77ae"
            ],
            [
             0.3,
             "#f1b6da"
            ],
            [
             0.4,
             "#fde0ef"
            ],
            [
             0.5,
             "#f7f7f7"
            ],
            [
             0.6,
             "#e6f5d0"
            ],
            [
             0.7,
             "#b8e186"
            ],
            [
             0.8,
             "#7fbc41"
            ],
            [
             0.9,
             "#4d9221"
            ],
            [
             1,
             "#276419"
            ]
           ],
           "sequential": [
            [
             0,
             "#0d0887"
            ],
            [
             0.1111111111111111,
             "#46039f"
            ],
            [
             0.2222222222222222,
             "#7201a8"
            ],
            [
             0.3333333333333333,
             "#9c179e"
            ],
            [
             0.4444444444444444,
             "#bd3786"
            ],
            [
             0.5555555555555556,
             "#d8576b"
            ],
            [
             0.6666666666666666,
             "#ed7953"
            ],
            [
             0.7777777777777778,
             "#fb9f3a"
            ],
            [
             0.8888888888888888,
             "#fdca26"
            ],
            [
             1,
             "#f0f921"
            ]
           ],
           "sequentialminus": [
            [
             0,
             "#0d0887"
            ],
            [
             0.1111111111111111,
             "#46039f"
            ],
            [
             0.2222222222222222,
             "#7201a8"
            ],
            [
             0.3333333333333333,
             "#9c179e"
            ],
            [
             0.4444444444444444,
             "#bd3786"
            ],
            [
             0.5555555555555556,
             "#d8576b"
            ],
            [
             0.6666666666666666,
             "#ed7953"
            ],
            [
             0.7777777777777778,
             "#fb9f3a"
            ],
            [
             0.8888888888888888,
             "#fdca26"
            ],
            [
             1,
             "#f0f921"
            ]
           ]
          },
          "colorway": [
           "#636efa",
           "#EF553B",
           "#00cc96",
           "#ab63fa",
           "#FFA15A",
           "#19d3f3",
           "#FF6692",
           "#B6E880",
           "#FF97FF",
           "#FECB52"
          ],
          "font": {
           "color": "#2a3f5f"
          },
          "geo": {
           "bgcolor": "white",
           "lakecolor": "white",
           "landcolor": "#E5ECF6",
           "showlakes": true,
           "showland": true,
           "subunitcolor": "white"
          },
          "hoverlabel": {
           "align": "left"
          },
          "hovermode": "closest",
          "mapbox": {
           "style": "light"
          },
          "paper_bgcolor": "white",
          "plot_bgcolor": "#E5ECF6",
          "polar": {
           "angularaxis": {
            "gridcolor": "white",
            "linecolor": "white",
            "ticks": ""
           },
           "bgcolor": "#E5ECF6",
           "radialaxis": {
            "gridcolor": "white",
            "linecolor": "white",
            "ticks": ""
           }
          },
          "scene": {
           "xaxis": {
            "backgroundcolor": "#E5ECF6",
            "gridcolor": "white",
            "gridwidth": 2,
            "linecolor": "white",
            "showbackground": true,
            "ticks": "",
            "zerolinecolor": "white"
           },
           "yaxis": {
            "backgroundcolor": "#E5ECF6",
            "gridcolor": "white",
            "gridwidth": 2,
            "linecolor": "white",
            "showbackground": true,
            "ticks": "",
            "zerolinecolor": "white"
           },
           "zaxis": {
            "backgroundcolor": "#E5ECF6",
            "gridcolor": "white",
            "gridwidth": 2,
            "linecolor": "white",
            "showbackground": true,
            "ticks": "",
            "zerolinecolor": "white"
           }
          },
          "shapedefaults": {
           "line": {
            "color": "#2a3f5f"
           }
          },
          "ternary": {
           "aaxis": {
            "gridcolor": "white",
            "linecolor": "white",
            "ticks": ""
           },
           "baxis": {
            "gridcolor": "white",
            "linecolor": "white",
            "ticks": ""
           },
           "bgcolor": "#E5ECF6",
           "caxis": {
            "gridcolor": "white",
            "linecolor": "white",
            "ticks": ""
           }
          },
          "title": {
           "x": 0.05
          },
          "xaxis": {
           "automargin": true,
           "gridcolor": "white",
           "linecolor": "white",
           "ticks": "",
           "title": {
            "standoff": 15
           },
           "zerolinecolor": "white",
           "zerolinewidth": 2
          },
          "yaxis": {
           "automargin": true,
           "gridcolor": "white",
           "linecolor": "white",
           "ticks": "",
           "title": {
            "standoff": 15
           },
           "zerolinecolor": "white",
           "zerolinewidth": 2
          }
         }
        },
        "title": {
         "text": "Change in Left Ventricular Size Over Time by Treatment Group"
        },
        "xaxis": {
         "anchor": "y",
         "domain": [
          0,
          1
         ],
         "title": {
          "text": "Time"
         }
        },
        "yaxis": {
         "anchor": "x",
         "domain": [
          0,
          1
         ],
         "title": {
          "text": "Left Ventricular Size"
         }
        }
       }
      }
     },
     "metadata": {},
     "output_type": "display_data"
    }
   ],
   "source": [
    "import plotly.express as px\n",
    "\n",
    "# Create a long-form version of the dataframe for Plotly\n",
    "df_long = pd.melt(data, id_vars=['treatment_group'], \n",
    "                  value_vars=['left_ventrical_size_pretreatment', \n",
    "                              'left_ventrical_2_weeks', \n",
    "                              'left_ventrical_size_4_weeks', \n",
    "                              'left_ventrical_size_18_months'], \n",
    "                  var_name='measurement', value_name='left_ventrical_size')\n",
    "\n",
    "# Create a dictionary to map the measurement names to their respective time points\n",
    "time_dict = {'left_ventrical_size_pretreatment': 'Pretreatment',\n",
    "             'left_ventrical_2_weeks': '2 Weeks',\n",
    "             'left_ventrical_size_4_weeks': '4 Weeks',\n",
    "             'left_ventrical_size_18_months': '18 Months'}\n",
    "\n",
    "# Map the measurement names to their respective time points using the dictionary\n",
    "df_long['time'] = df_long['measurement'].map(time_dict)\n",
    "\n",
    "# Create the interactive line plot with color grouping\n",
    "fig = px.line(df_long, x=\"time\", y=\"left_ventrical_size\", \n",
    "              color=\"treatment_group\", \n",
    "              title=\"Change in Left Ventricular Size Over Time by Treatment Group\", \n",
    "              labels={'left_ventrical_size': 'Left Ventricular Size', \n",
    "                      'treatment_group': 'Treatment Group', 'time': 'Time'})\n",
    "\n",
    "# Customize the legend title\n",
    "fig.update_layout(legend_title_text='Treatment Group')\n",
    "\n",
    "# Display the interactive plot\n",
    "fig.show()\n",
    "\n",
    "\n"
   ]
  },
  {
   "cell_type": "code",
   "execution_count": 16,
   "metadata": {},
   "outputs": [
    {
     "data": {
      "text/html": [
       "<div>\n",
       "<style scoped>\n",
       "    .dataframe tbody tr th:only-of-type {\n",
       "        vertical-align: middle;\n",
       "    }\n",
       "\n",
       "    .dataframe tbody tr th {\n",
       "        vertical-align: top;\n",
       "    }\n",
       "\n",
       "    .dataframe thead th {\n",
       "        text-align: right;\n",
       "    }\n",
       "</style>\n",
       "<table border=\"1\" class=\"dataframe\">\n",
       "  <thead>\n",
       "    <tr style=\"text-align: right;\">\n",
       "      <th></th>\n",
       "      <th>treatment_group</th>\n",
       "      <th>measurement</th>\n",
       "      <th>left_ventrical_size</th>\n",
       "      <th>time</th>\n",
       "    </tr>\n",
       "  </thead>\n",
       "  <tbody>\n",
       "    <tr>\n",
       "      <th>0</th>\n",
       "      <td>0.0</td>\n",
       "      <td>left_ventrical_size_pretreatment</td>\n",
       "      <td>7.9</td>\n",
       "      <td>Pretreatment</td>\n",
       "    </tr>\n",
       "    <tr>\n",
       "      <th>1</th>\n",
       "      <td>0.0</td>\n",
       "      <td>left_ventrical_size_pretreatment</td>\n",
       "      <td>6.7</td>\n",
       "      <td>Pretreatment</td>\n",
       "    </tr>\n",
       "    <tr>\n",
       "      <th>2</th>\n",
       "      <td>0.0</td>\n",
       "      <td>left_ventrical_size_pretreatment</td>\n",
       "      <td>5.9</td>\n",
       "      <td>Pretreatment</td>\n",
       "    </tr>\n",
       "    <tr>\n",
       "      <th>3</th>\n",
       "      <td>1.0</td>\n",
       "      <td>left_ventrical_size_pretreatment</td>\n",
       "      <td>6.1</td>\n",
       "      <td>Pretreatment</td>\n",
       "    </tr>\n",
       "    <tr>\n",
       "      <th>4</th>\n",
       "      <td>1.0</td>\n",
       "      <td>left_ventrical_size_pretreatment</td>\n",
       "      <td>5.7</td>\n",
       "      <td>Pretreatment</td>\n",
       "    </tr>\n",
       "  </tbody>\n",
       "</table>\n",
       "</div>"
      ],
      "text/plain": [
       "   treatment_group                       measurement  left_ventrical_size  \\\n",
       "0              0.0  left_ventrical_size_pretreatment                  7.9   \n",
       "1              0.0  left_ventrical_size_pretreatment                  6.7   \n",
       "2              0.0  left_ventrical_size_pretreatment                  5.9   \n",
       "3              1.0  left_ventrical_size_pretreatment                  6.1   \n",
       "4              1.0  left_ventrical_size_pretreatment                  5.7   \n",
       "\n",
       "           time  \n",
       "0  Pretreatment  \n",
       "1  Pretreatment  \n",
       "2  Pretreatment  \n",
       "3  Pretreatment  \n",
       "4  Pretreatment  "
      ]
     },
     "execution_count": 16,
     "metadata": {},
     "output_type": "execute_result"
    }
   ],
   "source": [
    "df_long.head()"
   ]
  },
  {
   "cell_type": "code",
   "execution_count": 18,
   "metadata": {},
   "outputs": [],
   "source": [
    "# Create two new dataframes based on the sex variable\n",
    "male_df = data[data['sex'] == 'm']\n",
    "female_df = data[data['sex'] == 'f']\n"
   ]
  },
  {
   "cell_type": "code",
   "execution_count": 23,
   "metadata": {},
   "outputs": [
    {
     "data": {
      "image/png": "[encoded data removed]",
      "text/plain": [
       "<Figure size 640x480 with 1 Axes>"
      ]
     },
     "metadata": {},
     "output_type": "display_data"
    }
   ],
   "source": [
    "import seaborn as sns\n",
    "import matplotlib.pyplot as plt\n",
    "\n",
    "# Create a long-form version of the male and female dataframes\n",
    "male_df_long = pd.melt(male_df, id_vars='treatment_group', \n",
    "                       value_vars=['left_ventrical_size_pretreatment', 'left_ventrical_2_weeks',\n",
    "                                   'left_ventrical_size_4_weeks', 'left_ventrical_size_18_months'],\n",
    "                       var_name='measurement', value_name='left_ventrical_size')\n",
    "\n",
    "female_df_long = pd.melt(female_df, id_vars='treatment_group', \n",
    "                         value_vars=['left_ventrical_size_pretreatment', 'left_ventrical_2_weeks',\n",
    "                                     'left_ventrical_size_4_weeks', 'left_ventrical_size_18_months'],\n",
    "                         var_name='measurement', value_name='left_ventrical_size')\n",
    "\n",
    "# Calculate the average left ventricular size for each treatment group and measurement\n",
    "male_avg_df = male_df_long.groupby(['treatment_group', 'measurement']).mean().reset_index()\n",
    "female_avg_df = female_df_long.groupby(['treatment_group', 'measurement']).mean().reset_index()\n",
    "\n",
    "# Combine the male and female dataframes\n",
    "avg_df = pd.concat([male_avg_df, female_avg_df])\n",
    "\n",
    "# Create the Seaborn line plot\n",
    "sns.lineplot(data=avg_df, x='measurement', y='left_ventrical_size', \n",
    "             hue='treatment_group', style='treatment_group')\n",
    "\n",
    "# Add plot labels and title\n",
    "plt.xlabel('Time')\n",
    "plt.ylabel('Average Left Ventricular Size')\n",
    "plt.title('Change in Left Ventricular Size Over Time by Treatment Group')\n",
    "\n",
    "# Show the plot\n",
    "plt.show()\n"
   ]
  },
  {
   "cell_type": "code",
   "execution_count": 47,
   "metadata": {},
   "outputs": [
    {
     "data": {
      "text/html": [
       "<div>\n",
       "<style scoped>\n",
       "    .dataframe tbody tr th:only-of-type {\n",
       "        vertical-align: middle;\n",
       "    }\n",
       "\n",
       "    .dataframe tbody tr th {\n",
       "        vertical-align: top;\n",
       "    }\n",
       "\n",
       "    .dataframe thead th {\n",
       "        text-align: right;\n",
       "    }\n",
       "</style>\n",
       "<table border=\"1\" class=\"dataframe\">\n",
       "  <thead>\n",
       "    <tr style=\"text-align: right;\">\n",
       "      <th></th>\n",
       "      <th>treatment_group</th>\n",
       "      <th>left_ventrical_size_pretreatment</th>\n",
       "      <th>left_ventrical_2_weeks</th>\n",
       "      <th>left_ventrical_size_4_weeks</th>\n",
       "      <th>left_ventrical_size_18_months</th>\n",
       "    </tr>\n",
       "  </thead>\n",
       "  <tbody>\n",
       "    <tr>\n",
       "      <th>0</th>\n",
       "      <td>0.0</td>\n",
       "      <td>7.26</td>\n",
       "      <td>7.16</td>\n",
       "      <td>7.16</td>\n",
       "      <td>7.1</td>\n",
       "    </tr>\n",
       "    <tr>\n",
       "      <th>1</th>\n",
       "      <td>1.0</td>\n",
       "      <td>6.98</td>\n",
       "      <td>6.34</td>\n",
       "      <td>5.38</td>\n",
       "      <td>5.1</td>\n",
       "    </tr>\n",
       "  </tbody>\n",
       "</table>\n",
       "</div>"
      ],
      "text/plain": [
       "   treatment_group  left_ventrical_size_pretreatment  left_ventrical_2_weeks  \\\n",
       "0              0.0                              7.26                    7.16   \n",
       "1              1.0                              6.98                    6.34   \n",
       "\n",
       "   left_ventrical_size_4_weeks  left_ventrical_size_18_months  \n",
       "0                         7.16                            7.1  \n",
       "1                         5.38                            5.1  "
      ]
     },
     "execution_count": 47,
     "metadata": {},
     "output_type": "execute_result"
    }
   ],
   "source": [
    "# Calculate the average left ventricular size for each treatment group and measurement time\n",
    "male_LV_means = male_df.groupby(['treatment_group']).agg({\n",
    "    'left_ventrical_size_pretreatment': 'mean',\n",
    "    'left_ventrical_2_weeks': 'mean',\n",
    "    'left_ventrical_size_4_weeks': 'mean',\n",
    "    'left_ventrical_size_18_months': 'mean'\n",
    "}).reset_index()\n",
    "\n",
    "# Display the new dataframe\n",
    "male_LV_means"
   ]
  },
  {
   "cell_type": "code",
   "execution_count": 48,
   "metadata": {},
   "outputs": [
    {
     "data": {
      "text/plain": [
       "Index(['treatment_group', 'left_ventrical_size_pretreatment',\n",
       "       'left_ventrical_2_weeks', 'left_ventrical_size_4_weeks',\n",
       "       'left_ventrical_size_18_months'],\n",
       "      dtype='object')"
      ]
     },
     "execution_count": 48,
     "metadata": {},
     "output_type": "execute_result"
    }
   ],
   "source": [
    "male_LV_means.columns"
   ]
  },
  {
   "cell_type": "code",
   "execution_count": 27,
   "metadata": {},
   "outputs": [
    {
     "data": {
      "image/png": "[encoded data removed]",
      "text/plain": [
       "<Figure size 640x480 with 1 Axes>"
      ]
     },
     "metadata": {},
     "output_type": "display_data"
    }
   ],
   "source": [
    "import matplotlib.pyplot as plt\n",
    "\n",
    "# Define the x-axis values\n",
    "x_values = ['pretreatment', '2 weeks', '4 weeks', '18 months']\n",
    "\n",
    "# Plot the average left ventricular size over time for each treatment group\n",
    "plt.plot(x_values, male_LV_means[male_LV_means['treatment_group'] == 0].iloc[0, 1:], \n",
    "         label='Placebo', marker='o')\n",
    "plt.plot(x_values, male_LV_means[male_LV_means['treatment_group'] == 1].iloc[0, 1:], \n",
    "         label='Treatment', marker='o')\n",
    "\n",
    "# Add plot labels and title\n",
    "plt.xlabel('Measurement Time')\n",
    "plt.ylabel('Average Left Ventricular Size')\n",
    "plt.title('Change in Left Ventricular Size Over Time by Treatment Group (Male Participants)')\n",
    "\n",
    "# Add a legend to the plot\n",
    "plt.legend()\n",
    "\n",
    "# Show the plot\n",
    "plt.show()\n"
   ]
  },
  {
   "cell_type": "code",
   "execution_count": 28,
   "metadata": {},
   "outputs": [
    {
     "name": "stderr",
     "output_type": "stream",
     "text": [
      "/var/folders/qm/qx46fb850rlbh6q98fgw87lw0000gn/T/ipykernel_36053/2488910812.py:27: MatplotlibDeprecationWarning:\n",
      "\n",
      "The seaborn styles shipped by Matplotlib are deprecated since 3.6, as they no longer correspond to the styles shipped by seaborn. However, they will remain available as 'seaborn-v0_8-<style>'. Alternatively, directly use the seaborn API instead.\n",
      "\n"
     ]
    },
    {
     "data": {
      "image/png": "[encoded data removed]",
      "text/plain": [
       "<Figure size 1000x600 with 1 Axes>"
      ]
     },
     "metadata": {},
     "output_type": "display_data"
    }
   ],
   "source": [
    "import matplotlib.pyplot as plt\n",
    "\n",
    "# Define the x-axis values\n",
    "x_values = ['pretreatment', '2 weeks', '4 weeks', '18 months']\n",
    "\n",
    "# Plot the average left ventricular size over time for each treatment group\n",
    "plt.plot(x_values, male_LV_means[male_LV_means['treatment_group'] == 0].iloc[0, 1:], \n",
    "         label='Placebo', marker='o', linewidth=2)\n",
    "plt.plot(x_values, male_LV_means[male_LV_means['treatment_group'] == 1].iloc[0, 1:], \n",
    "         label='Treatment', marker='o', linewidth=2)\n",
    "\n",
    "# Add plot labels and title\n",
    "plt.xlabel('Measurement Time', fontsize=14)\n",
    "plt.ylabel('Average Left Ventricular Size', fontsize=14)\n",
    "plt.title('Change in Left Ventricular Size Over Time by Treatment Group (Male Participants)', fontsize=16)\n",
    "\n",
    "# Add a legend to the plot\n",
    "plt.legend(fontsize=12)\n",
    "\n",
    "# Customize the tick labels and gridlines\n",
    "plt.xticks(fontsize=12)\n",
    "plt.yticks(fontsize=12)\n",
    "plt.grid(axis='y', linestyle='--', alpha=0.7)\n",
    "\n",
    "# Set the figure size and style\n",
    "plt.gcf().set_size_inches(10, 6)\n",
    "plt.style.use('seaborn')\n",
    "\n",
    "# Show the plot\n",
    "plt.show()\n"
   ]
  },
  {
   "cell_type": "code",
   "execution_count": 29,
   "metadata": {},
   "outputs": [
    {
     "data": {
      "image/png": "[encoded data removed]",
      "text/plain": [
       "<Figure size 1200x800 with 1 Axes>"
      ]
     },
     "metadata": {},
     "output_type": "display_data"
    }
   ],
   "source": [
    "import seaborn as sns\n",
    "import matplotlib.pyplot as plt\n",
    "\n",
    "# Define the x-axis values\n",
    "x_values = ['pretreatment', '2 weeks', '4 weeks', '18 months']\n",
    "\n",
    "# Set the Seaborn style and context\n",
    "sns.set_style('whitegrid')\n",
    "sns.set_context('talk', font_scale=1.2)\n",
    "\n",
    "# Plot the average left ventricular size over time for each treatment group\n",
    "sns.lineplot(x=x_values, y=male_LV_means[male_LV_means['treatment_group'] == 0].iloc[0, 1:], \n",
    "             label='Placebo', marker='o', markersize=10, linewidth=3)\n",
    "sns.lineplot(x=x_values, y=male_LV_means[v['treatment_group'] == 1].iloc[0, 1:], \n",
    "             label='Treatment', marker='o', markersize=10, linewidth=3)\n",
    "\n",
    "# Add plot labels and title\n",
    "plt.xlabel('Measurement Time', fontsize=16)\n",
    "plt.ylabel('Average Left Ventricular Size', fontsize=16)\n",
    "plt.title('Change in Left Ventricular Size Over Time by Treatment Group (Male Participants)', fontsize=20)\n",
    "\n",
    "# Add a legend to the plot\n",
    "plt.legend(fontsize=14)\n",
    "\n",
    "# Customize the tick labels\n",
    "plt.xticks(fontsize=14)\n",
    "plt.yticks(fontsize=14)\n",
    "\n",
    "# Set the figure size\n",
    "plt.gcf().set_size_inches(12, 8)\n",
    "\n",
    "# Show the plot\n",
    "plt.show()\n"
   ]
  },
  {
   "cell_type": "code",
   "execution_count": 33,
   "metadata": {},
   "outputs": [
    {
     "name": "stdout",
     "output_type": "stream",
     "text": [
      "           heart_rate_pretreatment  heart_rate_2_weeks  heart_rate_4_weeks\n",
      "Placebo                       89.6                89.0                83.4\n",
      "Treatment                     91.4                79.4                71.0\n"
     ]
    }
   ],
   "source": [
    "import pandas as pd\n",
    "\n",
    "# Define the intervals to calculate means for\n",
    "intervals = ['heart_rate_pretreatment', 'heart_rate_2_weeks', 'heart_rate_4_weeks']\n",
    "\n",
    "# Calculate the means of heart rate for each interval\n",
    "heart_rate_means = []\n",
    "for interval in intervals:\n",
    "    heart_rate_means.append(data.groupby('treatment_group')[interval].mean().tolist())\n",
    "\n",
    "# Create a new data frame with the means\n",
    "heart_rate_means_df = pd.DataFrame(heart_rate_means, columns=['Placebo', 'Treatment'], index=intervals)\n",
    "heart_rate_means_df = heart_rate_means_df.transpose()\n",
    "\n",
    "# Print the new data frame\n",
    "print(heart_rate_means_df)\n"
   ]
  },
  {
   "cell_type": "code",
   "execution_count": 50,
   "metadata": {},
   "outputs": [
    {
     "data": {
      "text/html": [
       "<div>\n",
       "<style scoped>\n",
       "    .dataframe tbody tr th:only-of-type {\n",
       "        vertical-align: middle;\n",
       "    }\n",
       "\n",
       "    .dataframe tbody tr th {\n",
       "        vertical-align: top;\n",
       "    }\n",
       "\n",
       "    .dataframe thead th {\n",
       "        text-align: right;\n",
       "    }\n",
       "</style>\n",
       "<table border=\"1\" class=\"dataframe\">\n",
       "  <thead>\n",
       "    <tr style=\"text-align: right;\">\n",
       "      <th></th>\n",
       "      <th>treatment_group</th>\n",
       "      <th>heart_rate_pretreatment</th>\n",
       "      <th>heart_rate_2_weeks</th>\n",
       "      <th>heart_rate_4_weeks</th>\n",
       "    </tr>\n",
       "  </thead>\n",
       "  <tbody>\n",
       "    <tr>\n",
       "      <th>0</th>\n",
       "      <td>0.0</td>\n",
       "      <td>85.4</td>\n",
       "      <td>85.2</td>\n",
       "      <td>79.0</td>\n",
       "    </tr>\n",
       "    <tr>\n",
       "      <th>1</th>\n",
       "      <td>1.0</td>\n",
       "      <td>87.4</td>\n",
       "      <td>74.4</td>\n",
       "      <td>63.8</td>\n",
       "    </tr>\n",
       "  </tbody>\n",
       "</table>\n",
       "</div>"
      ],
      "text/plain": [
       "   treatment_group  heart_rate_pretreatment  heart_rate_2_weeks  \\\n",
       "0              0.0                     85.4                85.2   \n",
       "1              1.0                     87.4                74.4   \n",
       "\n",
       "   heart_rate_4_weeks  \n",
       "0                79.0  \n",
       "1                63.8  "
      ]
     },
     "execution_count": 50,
     "metadata": {},
     "output_type": "execute_result"
    }
   ],
   "source": [
    "# Calculate the average left ventricular size for each treatment group and measurement time\n",
    "heart_rate_means_df = male_df.groupby(['treatment_group']).agg({\n",
    "    'heart_rate_pretreatment': 'mean',\n",
    "    'heart_rate_2_weeks': 'mean',\n",
    "    'heart_rate_4_weeks': 'mean',\n",
    "}).reset_index()\n",
    "\n",
    "# Display the new dataframe\n",
    "heart_rate_means_df"
   ]
  },
  {
   "cell_type": "code",
   "execution_count": 39,
   "metadata": {},
   "outputs": [
    {
     "data": {
      "image/png": "[encoded data removed]",
      "text/plain": [
       "<Figure size 800x550 with 1 Axes>"
      ]
     },
     "metadata": {},
     "output_type": "display_data"
    }
   ],
   "source": [
    "import matplotlib.pyplot as plt\n",
    "\n",
    "# Define the x-axis values\n",
    "x_values = ['pretreatment', '2 weeks', '4 weeks']\n",
    "\n",
    "# Plot the average left ventricular size over time for each treatment group\n",
    "plt.plot(x_values, heart_rate_means_df[heart_rate_means_df['treatment_group'] == 0].iloc[0, 1:], \n",
    "         label='Placebo', marker='o')\n",
    "plt.plot(x_values, heart_rate_means_df[heart_rate_means_df['treatment_group'] == 1].iloc[0, 1:], \n",
    "         label='Treatment', marker='o')\n",
    "\n",
    "# Add plot labels and title\n",
    "plt.xlabel('Measurement Time')\n",
    "plt.ylabel('Average Left Ventricular Size')\n",
    "plt.title('Change in Heart Rate Over Time by Treatment Group (Male Participants)')\n",
    "\n",
    "# Add a legend to the plot\n",
    "plt.legend()\n",
    "\n",
    "# Show the plot\n",
    "plt.show()"
   ]
  },
  {
   "cell_type": "code",
   "execution_count": 51,
   "metadata": {},
   "outputs": [
    {
     "data": {
      "text/html": [
       "<div>\n",
       "<style scoped>\n",
       "    .dataframe tbody tr th:only-of-type {\n",
       "        vertical-align: middle;\n",
       "    }\n",
       "\n",
       "    .dataframe tbody tr th {\n",
       "        vertical-align: top;\n",
       "    }\n",
       "\n",
       "    .dataframe thead th {\n",
       "        text-align: right;\n",
       "    }\n",
       "</style>\n",
       "<table border=\"1\" class=\"dataframe\">\n",
       "  <thead>\n",
       "    <tr style=\"text-align: right;\">\n",
       "      <th></th>\n",
       "      <th>treatment_group</th>\n",
       "      <th>heart_rate_pretreatment</th>\n",
       "      <th>heart_rate_2_weeks</th>\n",
       "      <th>heart_rate_4_weeks</th>\n",
       "    </tr>\n",
       "  </thead>\n",
       "  <tbody>\n",
       "    <tr>\n",
       "      <th>0</th>\n",
       "      <td>0.0</td>\n",
       "      <td>85.4</td>\n",
       "      <td>85.2</td>\n",
       "      <td>79.0</td>\n",
       "    </tr>\n",
       "    <tr>\n",
       "      <th>1</th>\n",
       "      <td>1.0</td>\n",
       "      <td>87.4</td>\n",
       "      <td>74.4</td>\n",
       "      <td>63.8</td>\n",
       "    </tr>\n",
       "  </tbody>\n",
       "</table>\n",
       "</div>"
      ],
      "text/plain": [
       "   treatment_group  heart_rate_pretreatment  heart_rate_2_weeks  \\\n",
       "0              0.0                     85.4                85.2   \n",
       "1              1.0                     87.4                74.4   \n",
       "\n",
       "   heart_rate_4_weeks  \n",
       "0                79.0  \n",
       "1                63.8  "
      ]
     },
     "execution_count": 51,
     "metadata": {},
     "output_type": "execute_result"
    }
   ],
   "source": [
    "heart_rate_means_df"
   ]
  },
  {
   "cell_type": "code",
   "execution_count": 52,
   "metadata": {},
   "outputs": [
    {
     "data": {
      "text/plain": [
       "Index(['treatment_group', 'heart_rate_pretreatment', 'heart_rate_2_weeks',\n",
       "       'heart_rate_4_weeks'],\n",
       "      dtype='object')"
      ]
     },
     "execution_count": 52,
     "metadata": {},
     "output_type": "execute_result"
    }
   ],
   "source": [
    "heart_rate_means_df.columns"
   ]
  },
  {
   "cell_type": "code",
   "execution_count": 53,
   "metadata": {},
   "outputs": [],
   "source": [
    "combined_df = pd.merge(male_LV_means, heart_rate_means_df, on='treatment_group')\n"
   ]
  },
  {
   "cell_type": "code",
   "execution_count": 57,
   "metadata": {},
   "outputs": [],
   "source": [
    "combined_df = combined_df.drop('left_ventrical_size_18_months', axis = 1)\n"
   ]
  },
  {
   "cell_type": "code",
   "execution_count": 59,
   "metadata": {},
   "outputs": [
    {
     "data": {
      "text/plain": [
       "Index(['treatment_group', 'left_ventrical_size_pretreatment',\n",
       "       'left_ventrical_2_weeks', 'left_ventrical_size_4_weeks',\n",
       "       'heart_rate_pretreatment', 'heart_rate_2_weeks', 'heart_rate_4_weeks'],\n",
       "      dtype='object')"
      ]
     },
     "execution_count": 59,
     "metadata": {},
     "output_type": "execute_result"
    }
   ],
   "source": [
    "combined_df.columns\n"
   ]
  }
 ],
 "metadata": {
  "kernelspec": {
   "display_name": "Torch_SB2",
   "language": "python",
   "name": "python3"
  },
  "language_info": {
   "codemirror_mode": {
    "name": "ipython",
    "version": 3
   },
   "file_extension": ".py",
   "mimetype": "text/x-python",
   "name": "python",
   "nbconvert_exporter": "python",
   "pygments_lexer": "ipython3",
   "version": "3.9.15"
  },
  "orig_nbformat": 4,
  "vscode": {
   "interpreter": {
    "hash": "2280b3b0838f6b356f0353db82bec828a8190df71aafda87a9fec5c542161bb7"
   }
  }
 },
 "nbformat": 4,
 "nbformat_minor": 2
}
